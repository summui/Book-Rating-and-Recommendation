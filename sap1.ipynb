{
 "cells": [
  {
   "cell_type": "code",
   "execution_count": 1,
   "id": "fc47164e",
   "metadata": {},
   "outputs": [],
   "source": [
    "import numpy as np\n",
    "import pandas as pd\n",
    "import matplotlib.pyplot as plt\n",
    "import seaborn as sns\n",
    "import warnings\n",
    "warnings.filterwarnings('ignore')"
   ]
  },
  {
   "cell_type": "code",
   "execution_count": 2,
   "id": "5b758477",
   "metadata": {},
   "outputs": [],
   "source": [
    "from sklearn.preprocessing import MultiLabelBinarizer, LabelEncoder, StandardScaler\n",
    "from sklearn.feature_extraction.text import TfidfVectorizer\n",
    "from sklearn.model_selection import train_test_split, GridSearchCV, KFold, cross_val_score\n",
    "from sklearn.metrics import mean_squared_error, make_scorer"
   ]
  },
  {
   "cell_type": "code",
   "execution_count": 3,
   "id": "5cb73636",
   "metadata": {},
   "outputs": [],
   "source": [
    "from sklearn.linear_model import LinearRegression\n",
    "from sklearn.svm import SVR\n",
    "from sklearn.neighbors import KNeighborsRegressor\n",
    "from sklearn.ensemble import RandomForestRegressor\n"
   ]
  },
  {
   "cell_type": "code",
   "execution_count": 4,
   "id": "5b892ea7",
   "metadata": {},
   "outputs": [],
   "source": [
    "df = pd.read_csv(r'C:\\Users\\SUMAIYA FATIMA\\Desktop\\BOOKS\\goodreads_data.csv') "
   ]
  },
  {
   "cell_type": "code",
   "execution_count": 5,
   "id": "9345f6ff",
   "metadata": {},
   "outputs": [
    {
     "data": {
      "text/html": [
       "<div>\n",
       "<style scoped>\n",
       "    .dataframe tbody tr th:only-of-type {\n",
       "        vertical-align: middle;\n",
       "    }\n",
       "\n",
       "    .dataframe tbody tr th {\n",
       "        vertical-align: top;\n",
       "    }\n",
       "\n",
       "    .dataframe thead th {\n",
       "        text-align: right;\n",
       "    }\n",
       "</style>\n",
       "<table border=\"1\" class=\"dataframe\">\n",
       "  <thead>\n",
       "    <tr style=\"text-align: right;\">\n",
       "      <th></th>\n",
       "      <th>Unnamed: 0</th>\n",
       "      <th>Book</th>\n",
       "      <th>Author</th>\n",
       "      <th>Description</th>\n",
       "      <th>Genres</th>\n",
       "      <th>Avg_Rating</th>\n",
       "      <th>Num_Ratings</th>\n",
       "      <th>URL</th>\n",
       "    </tr>\n",
       "  </thead>\n",
       "  <tbody>\n",
       "    <tr>\n",
       "      <th>0</th>\n",
       "      <td>0</td>\n",
       "      <td>To Kill a Mockingbird</td>\n",
       "      <td>Harper Lee</td>\n",
       "      <td>The unforgettable novel of a childhood in a sl...</td>\n",
       "      <td>['Classics', 'Fiction', 'Historical Fiction', ...</td>\n",
       "      <td>4.27</td>\n",
       "      <td>5,691,311</td>\n",
       "      <td>https://www.goodreads.com/book/show/2657.To_Ki...</td>\n",
       "    </tr>\n",
       "    <tr>\n",
       "      <th>1</th>\n",
       "      <td>1</td>\n",
       "      <td>Harry Potter and the Philosopher’s Stone (Harr...</td>\n",
       "      <td>J.K. Rowling</td>\n",
       "      <td>Harry Potter thinks he is an ordinary boy - un...</td>\n",
       "      <td>['Fantasy', 'Fiction', 'Young Adult', 'Magic',...</td>\n",
       "      <td>4.47</td>\n",
       "      <td>9,278,135</td>\n",
       "      <td>https://www.goodreads.com/book/show/72193.Harr...</td>\n",
       "    </tr>\n",
       "    <tr>\n",
       "      <th>2</th>\n",
       "      <td>2</td>\n",
       "      <td>Pride and Prejudice</td>\n",
       "      <td>Jane Austen</td>\n",
       "      <td>Since its immediate success in 1813, Pride and...</td>\n",
       "      <td>['Classics', 'Fiction', 'Romance', 'Historical...</td>\n",
       "      <td>4.28</td>\n",
       "      <td>3,944,155</td>\n",
       "      <td>https://www.goodreads.com/book/show/1885.Pride...</td>\n",
       "    </tr>\n",
       "    <tr>\n",
       "      <th>3</th>\n",
       "      <td>3</td>\n",
       "      <td>The Diary of a Young Girl</td>\n",
       "      <td>Anne Frank</td>\n",
       "      <td>Discovered in the attic in which she spent the...</td>\n",
       "      <td>['Classics', 'Nonfiction', 'History', 'Biograp...</td>\n",
       "      <td>4.18</td>\n",
       "      <td>3,488,438</td>\n",
       "      <td>https://www.goodreads.com/book/show/48855.The_...</td>\n",
       "    </tr>\n",
       "    <tr>\n",
       "      <th>4</th>\n",
       "      <td>4</td>\n",
       "      <td>Animal Farm</td>\n",
       "      <td>George Orwell</td>\n",
       "      <td>Librarian's note: There is an Alternate Cover ...</td>\n",
       "      <td>['Classics', 'Fiction', 'Dystopia', 'Fantasy',...</td>\n",
       "      <td>3.98</td>\n",
       "      <td>3,575,172</td>\n",
       "      <td>https://www.goodreads.com/book/show/170448.Ani...</td>\n",
       "    </tr>\n",
       "    <tr>\n",
       "      <th>...</th>\n",
       "      <td>...</td>\n",
       "      <td>...</td>\n",
       "      <td>...</td>\n",
       "      <td>...</td>\n",
       "      <td>...</td>\n",
       "      <td>...</td>\n",
       "      <td>...</td>\n",
       "      <td>...</td>\n",
       "    </tr>\n",
       "    <tr>\n",
       "      <th>9995</th>\n",
       "      <td>9995</td>\n",
       "      <td>Breeders (Breeders Trilogy, #1)</td>\n",
       "      <td>Ashley Quigley</td>\n",
       "      <td>How far would you go? If human society was gen...</td>\n",
       "      <td>['Dystopia', 'Science Fiction', 'Post Apocalyp...</td>\n",
       "      <td>3.44</td>\n",
       "      <td>276</td>\n",
       "      <td>https://www.goodreads.com/book/show/22085400-b...</td>\n",
       "    </tr>\n",
       "    <tr>\n",
       "      <th>9996</th>\n",
       "      <td>9996</td>\n",
       "      <td>Dynamo</td>\n",
       "      <td>Eleanor Gustafson</td>\n",
       "      <td>Jeth Cavanaugh is searching for a new life alo...</td>\n",
       "      <td>[]</td>\n",
       "      <td>4.23</td>\n",
       "      <td>60</td>\n",
       "      <td>https://www.goodreads.com/book/show/20862902-d...</td>\n",
       "    </tr>\n",
       "    <tr>\n",
       "      <th>9997</th>\n",
       "      <td>9997</td>\n",
       "      <td>The Republic of Trees</td>\n",
       "      <td>Sam Taylor</td>\n",
       "      <td>This dark fable tells the story of four Englis...</td>\n",
       "      <td>['Fiction', 'Horror', 'Dystopia', 'Coming Of A...</td>\n",
       "      <td>3.29</td>\n",
       "      <td>383</td>\n",
       "      <td>https://www.goodreads.com/book/show/891262.The...</td>\n",
       "    </tr>\n",
       "    <tr>\n",
       "      <th>9998</th>\n",
       "      <td>9998</td>\n",
       "      <td>Waking Up (Healing Hearts, #1)</td>\n",
       "      <td>Renee Dyer</td>\n",
       "      <td>For Adriana Monroe life couldn’t get any bette...</td>\n",
       "      <td>['New Adult', 'Romance', 'Contemporary Romance...</td>\n",
       "      <td>4.13</td>\n",
       "      <td>263</td>\n",
       "      <td>https://www.goodreads.com/book/show/19347252-w...</td>\n",
       "    </tr>\n",
       "    <tr>\n",
       "      <th>9999</th>\n",
       "      <td>9999</td>\n",
       "      <td>Bits and Pieces: Tales and Sonnets</td>\n",
       "      <td>Jas T. Ward</td>\n",
       "      <td>After demands of thousands of fans in various ...</td>\n",
       "      <td>[]</td>\n",
       "      <td>5.00</td>\n",
       "      <td>36</td>\n",
       "      <td>https://www.goodreads.com/book/show/21302552-b...</td>\n",
       "    </tr>\n",
       "  </tbody>\n",
       "</table>\n",
       "<p>10000 rows × 8 columns</p>\n",
       "</div>"
      ],
      "text/plain": [
       "      Unnamed: 0                                               Book  \\\n",
       "0              0                              To Kill a Mockingbird   \n",
       "1              1  Harry Potter and the Philosopher’s Stone (Harr...   \n",
       "2              2                                Pride and Prejudice   \n",
       "3              3                          The Diary of a Young Girl   \n",
       "4              4                                        Animal Farm   \n",
       "...          ...                                                ...   \n",
       "9995        9995                    Breeders (Breeders Trilogy, #1)   \n",
       "9996        9996                                             Dynamo   \n",
       "9997        9997                              The Republic of Trees   \n",
       "9998        9998                     Waking Up (Healing Hearts, #1)   \n",
       "9999        9999                 Bits and Pieces: Tales and Sonnets   \n",
       "\n",
       "                 Author                                        Description  \\\n",
       "0            Harper Lee  The unforgettable novel of a childhood in a sl...   \n",
       "1          J.K. Rowling  Harry Potter thinks he is an ordinary boy - un...   \n",
       "2           Jane Austen  Since its immediate success in 1813, Pride and...   \n",
       "3            Anne Frank  Discovered in the attic in which she spent the...   \n",
       "4         George Orwell  Librarian's note: There is an Alternate Cover ...   \n",
       "...                 ...                                                ...   \n",
       "9995     Ashley Quigley  How far would you go? If human society was gen...   \n",
       "9996  Eleanor Gustafson  Jeth Cavanaugh is searching for a new life alo...   \n",
       "9997         Sam Taylor  This dark fable tells the story of four Englis...   \n",
       "9998         Renee Dyer  For Adriana Monroe life couldn’t get any bette...   \n",
       "9999        Jas T. Ward  After demands of thousands of fans in various ...   \n",
       "\n",
       "                                                 Genres  Avg_Rating  \\\n",
       "0     ['Classics', 'Fiction', 'Historical Fiction', ...        4.27   \n",
       "1     ['Fantasy', 'Fiction', 'Young Adult', 'Magic',...        4.47   \n",
       "2     ['Classics', 'Fiction', 'Romance', 'Historical...        4.28   \n",
       "3     ['Classics', 'Nonfiction', 'History', 'Biograp...        4.18   \n",
       "4     ['Classics', 'Fiction', 'Dystopia', 'Fantasy',...        3.98   \n",
       "...                                                 ...         ...   \n",
       "9995  ['Dystopia', 'Science Fiction', 'Post Apocalyp...        3.44   \n",
       "9996                                                 []        4.23   \n",
       "9997  ['Fiction', 'Horror', 'Dystopia', 'Coming Of A...        3.29   \n",
       "9998  ['New Adult', 'Romance', 'Contemporary Romance...        4.13   \n",
       "9999                                                 []        5.00   \n",
       "\n",
       "     Num_Ratings                                                URL  \n",
       "0      5,691,311  https://www.goodreads.com/book/show/2657.To_Ki...  \n",
       "1      9,278,135  https://www.goodreads.com/book/show/72193.Harr...  \n",
       "2      3,944,155  https://www.goodreads.com/book/show/1885.Pride...  \n",
       "3      3,488,438  https://www.goodreads.com/book/show/48855.The_...  \n",
       "4      3,575,172  https://www.goodreads.com/book/show/170448.Ani...  \n",
       "...          ...                                                ...  \n",
       "9995         276  https://www.goodreads.com/book/show/22085400-b...  \n",
       "9996          60  https://www.goodreads.com/book/show/20862902-d...  \n",
       "9997         383  https://www.goodreads.com/book/show/891262.The...  \n",
       "9998         263  https://www.goodreads.com/book/show/19347252-w...  \n",
       "9999          36  https://www.goodreads.com/book/show/21302552-b...  \n",
       "\n",
       "[10000 rows x 8 columns]"
      ]
     },
     "execution_count": 5,
     "metadata": {},
     "output_type": "execute_result"
    }
   ],
   "source": [
    "df"
   ]
  },
  {
   "cell_type": "code",
   "execution_count": 6,
   "id": "d3d27dac",
   "metadata": {},
   "outputs": [],
   "source": [
    "# List columns to drop based on your dataset load and EDA\n",
    "columns_to_drop = ['Book', 'URL', 'Unnamed: 0']  # Add or remove column names as needed\n",
    "\n",
    "# Drop the columns safely if they exist\n",
    "df.drop(columns=[col for col in columns_to_drop if col in df.columns], inplace=True)\n"
   ]
  },
  {
   "cell_type": "code",
   "execution_count": 7,
   "id": "758daef7",
   "metadata": {},
   "outputs": [
    {
     "data": {
      "text/html": [
       "<div>\n",
       "<style scoped>\n",
       "    .dataframe tbody tr th:only-of-type {\n",
       "        vertical-align: middle;\n",
       "    }\n",
       "\n",
       "    .dataframe tbody tr th {\n",
       "        vertical-align: top;\n",
       "    }\n",
       "\n",
       "    .dataframe thead th {\n",
       "        text-align: right;\n",
       "    }\n",
       "</style>\n",
       "<table border=\"1\" class=\"dataframe\">\n",
       "  <thead>\n",
       "    <tr style=\"text-align: right;\">\n",
       "      <th></th>\n",
       "      <th>Author</th>\n",
       "      <th>Description</th>\n",
       "      <th>Genres</th>\n",
       "      <th>Avg_Rating</th>\n",
       "      <th>Num_Ratings</th>\n",
       "    </tr>\n",
       "  </thead>\n",
       "  <tbody>\n",
       "    <tr>\n",
       "      <th>0</th>\n",
       "      <td>Harper Lee</td>\n",
       "      <td>The unforgettable novel of a childhood in a sl...</td>\n",
       "      <td>['Classics', 'Fiction', 'Historical Fiction', ...</td>\n",
       "      <td>4.27</td>\n",
       "      <td>5,691,311</td>\n",
       "    </tr>\n",
       "    <tr>\n",
       "      <th>1</th>\n",
       "      <td>J.K. Rowling</td>\n",
       "      <td>Harry Potter thinks he is an ordinary boy - un...</td>\n",
       "      <td>['Fantasy', 'Fiction', 'Young Adult', 'Magic',...</td>\n",
       "      <td>4.47</td>\n",
       "      <td>9,278,135</td>\n",
       "    </tr>\n",
       "    <tr>\n",
       "      <th>2</th>\n",
       "      <td>Jane Austen</td>\n",
       "      <td>Since its immediate success in 1813, Pride and...</td>\n",
       "      <td>['Classics', 'Fiction', 'Romance', 'Historical...</td>\n",
       "      <td>4.28</td>\n",
       "      <td>3,944,155</td>\n",
       "    </tr>\n",
       "    <tr>\n",
       "      <th>3</th>\n",
       "      <td>Anne Frank</td>\n",
       "      <td>Discovered in the attic in which she spent the...</td>\n",
       "      <td>['Classics', 'Nonfiction', 'History', 'Biograp...</td>\n",
       "      <td>4.18</td>\n",
       "      <td>3,488,438</td>\n",
       "    </tr>\n",
       "    <tr>\n",
       "      <th>4</th>\n",
       "      <td>George Orwell</td>\n",
       "      <td>Librarian's note: There is an Alternate Cover ...</td>\n",
       "      <td>['Classics', 'Fiction', 'Dystopia', 'Fantasy',...</td>\n",
       "      <td>3.98</td>\n",
       "      <td>3,575,172</td>\n",
       "    </tr>\n",
       "  </tbody>\n",
       "</table>\n",
       "</div>"
      ],
      "text/plain": [
       "          Author                                        Description  \\\n",
       "0     Harper Lee  The unforgettable novel of a childhood in a sl...   \n",
       "1   J.K. Rowling  Harry Potter thinks he is an ordinary boy - un...   \n",
       "2    Jane Austen  Since its immediate success in 1813, Pride and...   \n",
       "3     Anne Frank  Discovered in the attic in which she spent the...   \n",
       "4  George Orwell  Librarian's note: There is an Alternate Cover ...   \n",
       "\n",
       "                                              Genres  Avg_Rating Num_Ratings  \n",
       "0  ['Classics', 'Fiction', 'Historical Fiction', ...        4.27   5,691,311  \n",
       "1  ['Fantasy', 'Fiction', 'Young Adult', 'Magic',...        4.47   9,278,135  \n",
       "2  ['Classics', 'Fiction', 'Romance', 'Historical...        4.28   3,944,155  \n",
       "3  ['Classics', 'Nonfiction', 'History', 'Biograp...        4.18   3,488,438  \n",
       "4  ['Classics', 'Fiction', 'Dystopia', 'Fantasy',...        3.98   3,575,172  "
      ]
     },
     "execution_count": 7,
     "metadata": {},
     "output_type": "execute_result"
    }
   ],
   "source": [
    "df.head(5)"
   ]
  },
  {
   "cell_type": "code",
   "execution_count": 8,
   "id": "5e5eb02a",
   "metadata": {},
   "outputs": [
    {
     "name": "stdout",
     "output_type": "stream",
     "text": [
      "Data sample:\n",
      "          Author                                        Description  \\\n",
      "0     Harper Lee  The unforgettable novel of a childhood in a sl...   \n",
      "1   J.K. Rowling  Harry Potter thinks he is an ordinary boy - un...   \n",
      "2    Jane Austen  Since its immediate success in 1813, Pride and...   \n",
      "3     Anne Frank  Discovered in the attic in which she spent the...   \n",
      "4  George Orwell  Librarian's note: There is an Alternate Cover ...   \n",
      "\n",
      "                                              Genres  Avg_Rating Num_Ratings  \n",
      "0  ['Classics', 'Fiction', 'Historical Fiction', ...        4.27   5,691,311  \n",
      "1  ['Fantasy', 'Fiction', 'Young Adult', 'Magic',...        4.47   9,278,135  \n",
      "2  ['Classics', 'Fiction', 'Romance', 'Historical...        4.28   3,944,155  \n",
      "3  ['Classics', 'Nonfiction', 'History', 'Biograp...        4.18   3,488,438  \n",
      "4  ['Classics', 'Fiction', 'Dystopia', 'Fantasy',...        3.98   3,575,172  \n"
     ]
    }
   ],
   "source": [
    "# --------- Exploratory Data Analysis (EDA) ----------\n",
    "print(\"Data sample:\")\n",
    "print(df.head())\n"
   ]
  },
  {
   "cell_type": "code",
   "execution_count": 9,
   "id": "36b7eee9",
   "metadata": {},
   "outputs": [
    {
     "name": "stdout",
     "output_type": "stream",
     "text": [
      "\n",
      "Data info:\n",
      "<class 'pandas.core.frame.DataFrame'>\n",
      "RangeIndex: 10000 entries, 0 to 9999\n",
      "Data columns (total 5 columns):\n",
      " #   Column       Non-Null Count  Dtype  \n",
      "---  ------       --------------  -----  \n",
      " 0   Author       10000 non-null  object \n",
      " 1   Description  9923 non-null   object \n",
      " 2   Genres       10000 non-null  object \n",
      " 3   Avg_Rating   10000 non-null  float64\n",
      " 4   Num_Ratings  10000 non-null  object \n",
      "dtypes: float64(1), object(4)\n",
      "memory usage: 390.8+ KB\n",
      "None\n"
     ]
    }
   ],
   "source": [
    "print(\"\\nData info:\")\n",
    "print(df.info())"
   ]
  },
  {
   "cell_type": "code",
   "execution_count": 10,
   "id": "56ec5b2b",
   "metadata": {},
   "outputs": [
    {
     "name": "stdout",
     "output_type": "stream",
     "text": [
      "\n",
      "Summary statistics:\n",
      "         Avg_Rating\n",
      "count  10000.000000\n",
      "mean       4.068577\n",
      "std        0.335359\n",
      "min        0.000000\n",
      "25%        3.880000\n",
      "50%        4.080000\n",
      "75%        4.260000\n",
      "max        5.000000\n"
     ]
    }
   ],
   "source": [
    "print(\"\\nSummary statistics:\")\n",
    "print(df.describe())"
   ]
  },
  {
   "cell_type": "code",
   "execution_count": 11,
   "id": "c7aa66c6",
   "metadata": {},
   "outputs": [
    {
     "name": "stdout",
     "output_type": "stream",
     "text": [
      "\n",
      "Checking for missing values:\n",
      "Author          0\n",
      "Description    77\n",
      "Genres          0\n",
      "Avg_Rating      0\n",
      "Num_Ratings     0\n",
      "dtype: int64\n"
     ]
    }
   ],
   "source": [
    "print(\"\\nChecking for missing values:\")\n",
    "print(df.isnull().sum())"
   ]
  },
  {
   "cell_type": "code",
   "execution_count": 12,
   "id": "ab2b8f89",
   "metadata": {},
   "outputs": [],
   "source": [
    "df.fillna({'Description': '', 'Genres': '[]'}, inplace=True)"
   ]
  },
  {
   "cell_type": "code",
   "execution_count": 13,
   "id": "07d27674",
   "metadata": {},
   "outputs": [
    {
     "data": {
      "text/plain": [
       "Author         0\n",
       "Description    0\n",
       "Genres         0\n",
       "Avg_Rating     0\n",
       "Num_Ratings    0\n",
       "dtype: int64"
      ]
     },
     "execution_count": 13,
     "metadata": {},
     "output_type": "execute_result"
    }
   ],
   "source": [
    "df.isnull().sum()"
   ]
  },
  {
   "cell_type": "code",
   "execution_count": 14,
   "id": "cf4f1e6c",
   "metadata": {},
   "outputs": [
    {
     "data": {
      "image/png": "[encoded data removed]",
      "text/plain": [
       "<Figure size 800x500 with 1 Axes>"
      ]
     },
     "metadata": {},
     "output_type": "display_data"
    }
   ],
   "source": [
    "# Distribution of Avg_Rating\n",
    "plt.figure(figsize=(8, 5))\n",
    "sns.histplot(df['Avg_Rating'], bins=30, kde=True, color='blue')\n",
    "plt.title('Distribution of Average Ratings')\n",
    "plt.xlabel('Avg_Rating')\n",
    "plt.ylabel('Count')\n",
    "plt.show()"
   ]
  },
  {
   "cell_type": "code",
   "execution_count": 15,
   "id": "a03e261d",
   "metadata": {},
   "outputs": [
    {
     "data": {
      "image/png": "[encoded data removed]",
      "text/plain": [
       "<Figure size 800x500 with 1 Axes>"
      ]
     },
     "metadata": {},
     "output_type": "display_data"
    }
   ],
   "source": [
    "# Distribution of Num_Ratings (after cleaning commas)\n",
    "df['Num_Ratings'] = df['Num_Ratings'].str.replace(',', '').astype(float)\n",
    "plt.figure(figsize=(8,5))\n",
    "sns.histplot(df['Num_Ratings'], bins=30, kde=True, color='green')\n",
    "plt.title('Distribution of Number of Ratings')\n",
    "plt.xlabel('Num_Ratings')\n",
    "plt.ylabel('Count')\n",
    "plt.show()"
   ]
  },
  {
   "cell_type": "code",
   "execution_count": 16,
   "id": "e2d60e41",
   "metadata": {},
   "outputs": [],
   "source": [
    "# Avg_Rating per genre (top 10 genres by frequency)\n",
    "df['Genres'] = df['Genres'].apply(lambda x: eval(x) if isinstance(x, str) else x)\n",
    "all_genres = sum(df['Genres'].tolist(), [])\n",
    "top_genres = pd.Series(all_genres).value_counts().head(10).index.tolist()\n",
    "\n",
    "genre_avg_rating = {}\n",
    "for genre in top_genres:\n",
    "    avg = df[df['Genres'].apply(lambda x: genre in x)]['Avg_Rating'].mean()\n",
    "    genre_avg_rating[genre] = avg\n",
    "\n",
    "genre_rating_df = pd.DataFrame.from_dict(genre_avg_rating, orient='index', columns=['Avg_Rating']).sort_values(by='Avg_Rating')"
   ]
  },
  {
   "cell_type": "code",
   "execution_count": 17,
   "id": "17b2f9f3",
   "metadata": {},
   "outputs": [
    {
     "data": {
      "image/png": "[encoded data removed]",
      "text/plain": [
       "<Figure size 1000x600 with 1 Axes>"
      ]
     },
     "metadata": {},
     "output_type": "display_data"
    }
   ],
   "source": [
    "plt.figure(figsize=(10, 6))\n",
    "sns.barplot(x=genre_rating_df['Avg_Rating'], y=genre_rating_df.index, palette=\"mako\")\n",
    "plt.title('Average Rating by Top 10 Genres')\n",
    "plt.xlabel('Average Rating')\n",
    "plt.ylabel('Genre')\n",
    "plt.show()"
   ]
  },
  {
   "cell_type": "code",
   "execution_count": 18,
   "id": "00fc5f54",
   "metadata": {},
   "outputs": [],
   "source": [
    "\n",
    "# Multi-label Binarization for Genres\n",
    "mlb = MultiLabelBinarizer()\n",
    "genre_dummies = pd.DataFrame(mlb.fit_transform(df['Genres']), columns=mlb.classes_, index=df.index)\n",
    "df = pd.concat([df, genre_dummies], axis=1)\n",
    "df.drop('Genres', axis=1, inplace=True)"
   ]
  },
  {
   "cell_type": "code",
   "execution_count": 19,
   "id": "43712556",
   "metadata": {},
   "outputs": [],
   "source": [
    "# Text Feature Extraction from Description\n",
    "tfidf = TfidfVectorizer(max_features=500)\n",
    "description_tfidf = tfidf.fit_transform(df['Description'])\n",
    "description_df = pd.DataFrame(description_tfidf.toarray(), columns=tfidf.get_feature_names_out())\n",
    "df = pd.concat([df.reset_index(drop=True), description_df.reset_index(drop=True)], axis=1)\n",
    "df.drop('Description', axis=1, inplace=True)"
   ]
  },
  {
   "cell_type": "code",
   "execution_count": 20,
   "id": "628296ee",
   "metadata": {},
   "outputs": [],
   "source": [
    "# Encode Author\n",
    "le_author = LabelEncoder()\n",
    "df['Author_enc'] = le_author.fit_transform(df['Author'].astype(str))\n",
    "df.drop('Author', axis=1, inplace=True)"
   ]
  },
  {
   "cell_type": "code",
   "execution_count": 21,
   "id": "0516d0dd",
   "metadata": {},
   "outputs": [],
   "source": [
    "\n",
    "# Features and target\n",
    "X = df.drop('Avg_Rating', axis=1)\n",
    "y = df['Avg_Rating']"
   ]
  },
  {
   "cell_type": "code",
   "execution_count": 22,
   "id": "2db13b5c",
   "metadata": {},
   "outputs": [
    {
     "data": {
      "text/html": [
       "<div>\n",
       "<style scoped>\n",
       "    .dataframe tbody tr th:only-of-type {\n",
       "        vertical-align: middle;\n",
       "    }\n",
       "\n",
       "    .dataframe tbody tr th {\n",
       "        vertical-align: top;\n",
       "    }\n",
       "\n",
       "    .dataframe thead th {\n",
       "        text-align: right;\n",
       "    }\n",
       "</style>\n",
       "<table border=\"1\" class=\"dataframe\">\n",
       "  <thead>\n",
       "    <tr style=\"text-align: right;\">\n",
       "      <th></th>\n",
       "      <th>Num_Ratings</th>\n",
       "      <th>12th Century</th>\n",
       "      <th>15th Century</th>\n",
       "      <th>16th Century</th>\n",
       "      <th>17th Century</th>\n",
       "      <th>18th Century</th>\n",
       "      <th>19th Century</th>\n",
       "      <th>20th Century</th>\n",
       "      <th>21st Century</th>\n",
       "      <th>Abuse</th>\n",
       "      <th>...</th>\n",
       "      <th>written</th>\n",
       "      <th>wrong</th>\n",
       "      <th>year</th>\n",
       "      <th>years</th>\n",
       "      <th>yet</th>\n",
       "      <th>york</th>\n",
       "      <th>you</th>\n",
       "      <th>young</th>\n",
       "      <th>your</th>\n",
       "      <th>Author_enc</th>\n",
       "    </tr>\n",
       "  </thead>\n",
       "  <tbody>\n",
       "    <tr>\n",
       "      <th>0</th>\n",
       "      <td>5691311.0</td>\n",
       "      <td>0</td>\n",
       "      <td>0</td>\n",
       "      <td>0</td>\n",
       "      <td>0</td>\n",
       "      <td>0</td>\n",
       "      <td>0</td>\n",
       "      <td>0</td>\n",
       "      <td>0</td>\n",
       "      <td>0</td>\n",
       "      <td>...</td>\n",
       "      <td>0.0</td>\n",
       "      <td>0.0</td>\n",
       "      <td>0.000000</td>\n",
       "      <td>0.000000</td>\n",
       "      <td>0.0</td>\n",
       "      <td>0.0</td>\n",
       "      <td>0.000000</td>\n",
       "      <td>0.103349</td>\n",
       "      <td>0.000000</td>\n",
       "      <td>2113</td>\n",
       "    </tr>\n",
       "    <tr>\n",
       "      <th>1</th>\n",
       "      <td>9278135.0</td>\n",
       "      <td>0</td>\n",
       "      <td>0</td>\n",
       "      <td>0</td>\n",
       "      <td>0</td>\n",
       "      <td>0</td>\n",
       "      <td>0</td>\n",
       "      <td>0</td>\n",
       "      <td>0</td>\n",
       "      <td>0</td>\n",
       "      <td>...</td>\n",
       "      <td>0.0</td>\n",
       "      <td>0.0</td>\n",
       "      <td>0.000000</td>\n",
       "      <td>0.000000</td>\n",
       "      <td>0.0</td>\n",
       "      <td>0.0</td>\n",
       "      <td>0.000000</td>\n",
       "      <td>0.000000</td>\n",
       "      <td>0.000000</td>\n",
       "      <td>2350</td>\n",
       "    </tr>\n",
       "    <tr>\n",
       "      <th>2</th>\n",
       "      <td>3944155.0</td>\n",
       "      <td>0</td>\n",
       "      <td>0</td>\n",
       "      <td>0</td>\n",
       "      <td>0</td>\n",
       "      <td>0</td>\n",
       "      <td>0</td>\n",
       "      <td>0</td>\n",
       "      <td>0</td>\n",
       "      <td>0</td>\n",
       "      <td>...</td>\n",
       "      <td>0.0</td>\n",
       "      <td>0.0</td>\n",
       "      <td>0.000000</td>\n",
       "      <td>0.000000</td>\n",
       "      <td>0.0</td>\n",
       "      <td>0.0</td>\n",
       "      <td>0.000000</td>\n",
       "      <td>0.000000</td>\n",
       "      <td>0.000000</td>\n",
       "      <td>2494</td>\n",
       "    </tr>\n",
       "    <tr>\n",
       "      <th>3</th>\n",
       "      <td>3488438.0</td>\n",
       "      <td>0</td>\n",
       "      <td>0</td>\n",
       "      <td>0</td>\n",
       "      <td>0</td>\n",
       "      <td>0</td>\n",
       "      <td>0</td>\n",
       "      <td>0</td>\n",
       "      <td>0</td>\n",
       "      <td>0</td>\n",
       "      <td>...</td>\n",
       "      <td>0.0</td>\n",
       "      <td>0.0</td>\n",
       "      <td>0.087728</td>\n",
       "      <td>0.152653</td>\n",
       "      <td>0.0</td>\n",
       "      <td>0.0</td>\n",
       "      <td>0.000000</td>\n",
       "      <td>0.082533</td>\n",
       "      <td>0.000000</td>\n",
       "      <td>409</td>\n",
       "    </tr>\n",
       "    <tr>\n",
       "      <th>4</th>\n",
       "      <td>3575172.0</td>\n",
       "      <td>0</td>\n",
       "      <td>0</td>\n",
       "      <td>0</td>\n",
       "      <td>0</td>\n",
       "      <td>0</td>\n",
       "      <td>0</td>\n",
       "      <td>0</td>\n",
       "      <td>0</td>\n",
       "      <td>0</td>\n",
       "      <td>...</td>\n",
       "      <td>0.0</td>\n",
       "      <td>0.0</td>\n",
       "      <td>0.000000</td>\n",
       "      <td>0.000000</td>\n",
       "      <td>0.0</td>\n",
       "      <td>0.0</td>\n",
       "      <td>0.000000</td>\n",
       "      <td>0.000000</td>\n",
       "      <td>0.000000</td>\n",
       "      <td>1960</td>\n",
       "    </tr>\n",
       "    <tr>\n",
       "      <th>...</th>\n",
       "      <td>...</td>\n",
       "      <td>...</td>\n",
       "      <td>...</td>\n",
       "      <td>...</td>\n",
       "      <td>...</td>\n",
       "      <td>...</td>\n",
       "      <td>...</td>\n",
       "      <td>...</td>\n",
       "      <td>...</td>\n",
       "      <td>...</td>\n",
       "      <td>...</td>\n",
       "      <td>...</td>\n",
       "      <td>...</td>\n",
       "      <td>...</td>\n",
       "      <td>...</td>\n",
       "      <td>...</td>\n",
       "      <td>...</td>\n",
       "      <td>...</td>\n",
       "      <td>...</td>\n",
       "      <td>...</td>\n",
       "      <td>...</td>\n",
       "    </tr>\n",
       "    <tr>\n",
       "      <th>9995</th>\n",
       "      <td>276.0</td>\n",
       "      <td>0</td>\n",
       "      <td>0</td>\n",
       "      <td>0</td>\n",
       "      <td>0</td>\n",
       "      <td>0</td>\n",
       "      <td>0</td>\n",
       "      <td>0</td>\n",
       "      <td>0</td>\n",
       "      <td>0</td>\n",
       "      <td>...</td>\n",
       "      <td>0.0</td>\n",
       "      <td>0.0</td>\n",
       "      <td>0.000000</td>\n",
       "      <td>0.000000</td>\n",
       "      <td>0.0</td>\n",
       "      <td>0.0</td>\n",
       "      <td>0.294439</td>\n",
       "      <td>0.000000</td>\n",
       "      <td>0.000000</td>\n",
       "      <td>512</td>\n",
       "    </tr>\n",
       "    <tr>\n",
       "      <th>9996</th>\n",
       "      <td>60.0</td>\n",
       "      <td>0</td>\n",
       "      <td>0</td>\n",
       "      <td>0</td>\n",
       "      <td>0</td>\n",
       "      <td>0</td>\n",
       "      <td>0</td>\n",
       "      <td>0</td>\n",
       "      <td>0</td>\n",
       "      <td>0</td>\n",
       "      <td>...</td>\n",
       "      <td>0.0</td>\n",
       "      <td>0.0</td>\n",
       "      <td>0.000000</td>\n",
       "      <td>0.000000</td>\n",
       "      <td>0.0</td>\n",
       "      <td>0.0</td>\n",
       "      <td>0.000000</td>\n",
       "      <td>0.000000</td>\n",
       "      <td>0.074204</td>\n",
       "      <td>1579</td>\n",
       "    </tr>\n",
       "    <tr>\n",
       "      <th>9997</th>\n",
       "      <td>383.0</td>\n",
       "      <td>0</td>\n",
       "      <td>0</td>\n",
       "      <td>0</td>\n",
       "      <td>0</td>\n",
       "      <td>0</td>\n",
       "      <td>0</td>\n",
       "      <td>0</td>\n",
       "      <td>0</td>\n",
       "      <td>0</td>\n",
       "      <td>...</td>\n",
       "      <td>0.0</td>\n",
       "      <td>0.0</td>\n",
       "      <td>0.000000</td>\n",
       "      <td>0.000000</td>\n",
       "      <td>0.0</td>\n",
       "      <td>0.0</td>\n",
       "      <td>0.000000</td>\n",
       "      <td>0.000000</td>\n",
       "      <td>0.000000</td>\n",
       "      <td>5056</td>\n",
       "    </tr>\n",
       "    <tr>\n",
       "      <th>9998</th>\n",
       "      <td>263.0</td>\n",
       "      <td>0</td>\n",
       "      <td>0</td>\n",
       "      <td>0</td>\n",
       "      <td>0</td>\n",
       "      <td>0</td>\n",
       "      <td>0</td>\n",
       "      <td>0</td>\n",
       "      <td>0</td>\n",
       "      <td>0</td>\n",
       "      <td>...</td>\n",
       "      <td>0.0</td>\n",
       "      <td>0.0</td>\n",
       "      <td>0.000000</td>\n",
       "      <td>0.000000</td>\n",
       "      <td>0.0</td>\n",
       "      <td>0.0</td>\n",
       "      <td>0.000000</td>\n",
       "      <td>0.000000</td>\n",
       "      <td>0.000000</td>\n",
       "      <td>4694</td>\n",
       "    </tr>\n",
       "    <tr>\n",
       "      <th>9999</th>\n",
       "      <td>36.0</td>\n",
       "      <td>0</td>\n",
       "      <td>0</td>\n",
       "      <td>0</td>\n",
       "      <td>0</td>\n",
       "      <td>0</td>\n",
       "      <td>0</td>\n",
       "      <td>0</td>\n",
       "      <td>0</td>\n",
       "      <td>0</td>\n",
       "      <td>...</td>\n",
       "      <td>0.0</td>\n",
       "      <td>0.0</td>\n",
       "      <td>0.000000</td>\n",
       "      <td>0.100654</td>\n",
       "      <td>0.0</td>\n",
       "      <td>0.0</td>\n",
       "      <td>0.000000</td>\n",
       "      <td>0.000000</td>\n",
       "      <td>0.000000</td>\n",
       "      <td>2527</td>\n",
       "    </tr>\n",
       "  </tbody>\n",
       "</table>\n",
       "<p>10000 rows × 1119 columns</p>\n",
       "</div>"
      ],
      "text/plain": [
       "      Num_Ratings  12th Century  15th Century  16th Century  17th Century  \\\n",
       "0       5691311.0             0             0             0             0   \n",
       "1       9278135.0             0             0             0             0   \n",
       "2       3944155.0             0             0             0             0   \n",
       "3       3488438.0             0             0             0             0   \n",
       "4       3575172.0             0             0             0             0   \n",
       "...           ...           ...           ...           ...           ...   \n",
       "9995        276.0             0             0             0             0   \n",
       "9996         60.0             0             0             0             0   \n",
       "9997        383.0             0             0             0             0   \n",
       "9998        263.0             0             0             0             0   \n",
       "9999         36.0             0             0             0             0   \n",
       "\n",
       "      18th Century  19th Century  20th Century  21st Century  Abuse  ...  \\\n",
       "0                0             0             0             0      0  ...   \n",
       "1                0             0             0             0      0  ...   \n",
       "2                0             0             0             0      0  ...   \n",
       "3                0             0             0             0      0  ...   \n",
       "4                0             0             0             0      0  ...   \n",
       "...            ...           ...           ...           ...    ...  ...   \n",
       "9995             0             0             0             0      0  ...   \n",
       "9996             0             0             0             0      0  ...   \n",
       "9997             0             0             0             0      0  ...   \n",
       "9998             0             0             0             0      0  ...   \n",
       "9999             0             0             0             0      0  ...   \n",
       "\n",
       "      written  wrong      year     years  yet  york       you     young  \\\n",
       "0         0.0    0.0  0.000000  0.000000  0.0   0.0  0.000000  0.103349   \n",
       "1         0.0    0.0  0.000000  0.000000  0.0   0.0  0.000000  0.000000   \n",
       "2         0.0    0.0  0.000000  0.000000  0.0   0.0  0.000000  0.000000   \n",
       "3         0.0    0.0  0.087728  0.152653  0.0   0.0  0.000000  0.082533   \n",
       "4         0.0    0.0  0.000000  0.000000  0.0   0.0  0.000000  0.000000   \n",
       "...       ...    ...       ...       ...  ...   ...       ...       ...   \n",
       "9995      0.0    0.0  0.000000  0.000000  0.0   0.0  0.294439  0.000000   \n",
       "9996      0.0    0.0  0.000000  0.000000  0.0   0.0  0.000000  0.000000   \n",
       "9997      0.0    0.0  0.000000  0.000000  0.0   0.0  0.000000  0.000000   \n",
       "9998      0.0    0.0  0.000000  0.000000  0.0   0.0  0.000000  0.000000   \n",
       "9999      0.0    0.0  0.000000  0.100654  0.0   0.0  0.000000  0.000000   \n",
       "\n",
       "          your  Author_enc  \n",
       "0     0.000000        2113  \n",
       "1     0.000000        2350  \n",
       "2     0.000000        2494  \n",
       "3     0.000000         409  \n",
       "4     0.000000        1960  \n",
       "...        ...         ...  \n",
       "9995  0.000000         512  \n",
       "9996  0.074204        1579  \n",
       "9997  0.000000        5056  \n",
       "9998  0.000000        4694  \n",
       "9999  0.000000        2527  \n",
       "\n",
       "[10000 rows x 1119 columns]"
      ]
     },
     "execution_count": 22,
     "metadata": {},
     "output_type": "execute_result"
    }
   ],
   "source": [
    "X"
   ]
  },
  {
   "cell_type": "code",
   "execution_count": 23,
   "id": "a41131e8",
   "metadata": {},
   "outputs": [
    {
     "data": {
      "text/plain": [
       "0       4.27\n",
       "1       4.47\n",
       "2       4.28\n",
       "3       4.18\n",
       "4       3.98\n",
       "        ... \n",
       "9995    3.44\n",
       "9996    4.23\n",
       "9997    3.29\n",
       "9998    4.13\n",
       "9999    5.00\n",
       "Name: Avg_Rating, Length: 10000, dtype: float64"
      ]
     },
     "execution_count": 23,
     "metadata": {},
     "output_type": "execute_result"
    }
   ],
   "source": [
    "y"
   ]
  },
  {
   "cell_type": "code",
   "execution_count": 24,
   "id": "a1043518",
   "metadata": {},
   "outputs": [],
   "source": [
    "\n",
    "# Feature scaling (important for SVR and KNN)\n",
    "scaler = StandardScaler()\n",
    "X_scaled = scaler.fit_transform(X)"
   ]
  },
  {
   "cell_type": "code",
   "execution_count": 25,
   "id": "001bf4f7",
   "metadata": {},
   "outputs": [],
   "source": [
    "# Train test split\n",
    "X_train, X_test, y_train, y_test = train_test_split(X_scaled, y, test_size=0.2, random_state=42)\n"
   ]
  },
  {
   "cell_type": "code",
   "execution_count": 26,
   "id": "bea400d0",
   "metadata": {},
   "outputs": [],
   "source": [
    "X_train_sub, _, y_train_sub, _ = train_test_split(X_train, y_train, train_size=0.3, random_state=42)\n"
   ]
  },
  {
   "cell_type": "code",
   "execution_count": 27,
   "id": "3de4fa01",
   "metadata": {},
   "outputs": [],
   "source": [
    "# Define models with manual parameters for quick training example\n",
    "models_manual = {\n",
    "    'RandomForest': RandomForestRegressor(n_estimators=100, max_depth=10, random_state=42),\n",
    "    'SVR': SVR(kernel='rbf', C=1, gamma='scale'),\n",
    "    'KNN': KNeighborsRegressor(n_neighbors=5, weights='uniform'),\n",
    "    'LinearRegression': LinearRegression()\n",
    "}"
   ]
  },
  {
   "cell_type": "code",
   "execution_count": 28,
   "id": "a88f5fda",
   "metadata": {},
   "outputs": [],
   "source": [
    "# Training and evaluation function\n",
    "def train_eval_manual(name, model, tune_on_subset=False):\n",
    "    print(f\"\\nTraining {name}...\")\n",
    "    if tune_on_subset:\n",
    "        model.fit(X_train_sub, y_train_sub)\n",
    "    else:\n",
    "        model.fit(X_train, y_train)\n",
    "    y_pred = model.predict(X_test)\n",
    "    test_rmse = np.sqrt(mean_squared_error(y_test, y_pred))\n",
    "    print(f\"Test RMSE for {name}: {test_rmse}\")\n",
    "    return model, test_rmse"
   ]
  },
  {
   "cell_type": "code",
   "execution_count": 29,
   "id": "b8110612",
   "metadata": {},
   "outputs": [],
   "source": [
    "\n",
    "trained_models_manual = {}\n",
    "test_rmse_manual = {}"
   ]
  },
  {
   "cell_type": "code",
   "execution_count": 30,
   "id": "20acfacf",
   "metadata": {},
   "outputs": [
    {
     "name": "stdout",
     "output_type": "stream",
     "text": [
      "\n",
      "Training RandomForest...\n",
      "Test RMSE for RandomForest: 0.29435168847483023\n",
      "\n",
      "Training SVR...\n",
      "Test RMSE for SVR: 0.28655655268098157\n",
      "\n",
      "Training KNN...\n"
     ]
    },
    {
     "name": "stderr",
     "output_type": "stream",
     "text": [
      "  File \"c:\\Users\\SUMAIYA FATIMA\\anaconda3\\Lib\\site-packages\\joblib\\externals\\loky\\backend\\context.py\", line 257, in _count_physical_cores\n",
      "    cpu_info = subprocess.run(\n",
      "        \"wmic CPU Get NumberOfCores /Format:csv\".split(),\n",
      "        capture_output=True,\n",
      "        text=True,\n",
      "    )\n",
      "  File \"c:\\Users\\SUMAIYA FATIMA\\anaconda3\\Lib\\subprocess.py\", line 554, in run\n",
      "    with Popen(*popenargs, **kwargs) as process:\n",
      "         ~~~~~^^^^^^^^^^^^^^^^^^^^^^\n",
      "  File \"c:\\Users\\SUMAIYA FATIMA\\anaconda3\\Lib\\subprocess.py\", line 1039, in __init__\n",
      "    self._execute_child(args, executable, preexec_fn, close_fds,\n",
      "    ~~~~~~~~~~~~~~~~~~~^^^^^^^^^^^^^^^^^^^^^^^^^^^^^^^^^^^^^^^^^\n",
      "                        pass_fds, cwd, env,\n",
      "                        ^^^^^^^^^^^^^^^^^^^\n",
      "    ...<5 lines>...\n",
      "                        gid, gids, uid, umask,\n",
      "                        ^^^^^^^^^^^^^^^^^^^^^^\n",
      "                        start_new_session, process_group)\n",
      "                        ^^^^^^^^^^^^^^^^^^^^^^^^^^^^^^^^^\n",
      "  File \"c:\\Users\\SUMAIYA FATIMA\\anaconda3\\Lib\\subprocess.py\", line 1554, in _execute_child\n",
      "    hp, ht, pid, tid = _winapi.CreateProcess(executable, args,\n",
      "                       ~~~~~~~~~~~~~~~~~~~~~^^^^^^^^^^^^^^^^^^\n",
      "                             # no special security\n",
      "                             ^^^^^^^^^^^^^^^^^^^^^\n",
      "    ...<4 lines>...\n",
      "                             cwd,\n",
      "                             ^^^^\n",
      "                             startupinfo)\n",
      "                             ^^^^^^^^^^^^\n"
     ]
    },
    {
     "name": "stdout",
     "output_type": "stream",
     "text": [
      "Test RMSE for KNN: 0.3670481902965876\n",
      "\n",
      "Training LinearRegression...\n",
      "Test RMSE for LinearRegression: 0.2956471532915254\n"
     ]
    }
   ],
   "source": [
    "for name, model in models_manual.items():\n",
    "    tune_subset = (name == 'RandomForest')  # Train RandomForest on subset, others on full set\n",
    "    model_trained, rmse = train_eval_manual(name, model, tune_on_subset=tune_subset)\n",
    "    trained_models_manual[name] = model_trained\n",
    "    test_rmse_manual[name] = rmse"
   ]
  },
  {
   "cell_type": "code",
   "execution_count": 31,
   "id": "118bc183",
   "metadata": {},
   "outputs": [
    {
     "name": "stdout",
     "output_type": "stream",
     "text": [
      "\n",
      "Model Performance Summary (Test RMSE):\n",
      "RandomForest: RMSE = 0.29435168847483023\n",
      "SVR: RMSE = 0.28655655268098157\n",
      "KNN: RMSE = 0.3670481902965876\n",
      "LinearRegression: RMSE = 0.2956471532915254\n"
     ]
    }
   ],
   "source": [
    "print(\"\\nModel Performance Summary (Test RMSE):\")\n",
    "for name, rmse in test_rmse_manual.items():\n",
    "    print(f\"{name}: RMSE = {rmse}\")"
   ]
  },
  {
   "cell_type": "code",
   "execution_count": 35,
   "id": "352290e6",
   "metadata": {},
   "outputs": [
    {
     "name": "stdout",
     "output_type": "stream",
     "text": [
      "Best model saved to best_model_SVR.pkl\n"
     ]
    }
   ],
   "source": [
    "# Save the best model\n",
    "import pickle\n",
    "\n",
    "best_model_name = min(test_rmse_manual, key=test_rmse_manual.get)\n",
    "best_model = trained_models_manual[best_model_name]\n",
    "filename = f'best_model_{best_model_name}.pkl'\n",
    "\n",
    "with open(filename, 'wb') as file:\n",
    "    pickle.dump(best_model, file)\n",
    "\n",
    "print(f\"Best model saved to {filename}\")"
   ]
  },
  {
   "cell_type": "code",
   "execution_count": 34,
   "id": "a3307abd",
   "metadata": {},
   "outputs": [
    {
     "data": {
      "image/png": "[encoded data removed]",
      "text/plain": [
       "<Figure size 1000x600 with 1 Axes>"
      ]
     },
     "metadata": {},
     "output_type": "display_data"
    }
   ],
   "source": [
    "# OPTIONAL: Plot RMSE comparison bar chart\n",
    "plt.figure(figsize=(10,6))\n",
    "sns.barplot(x=list(test_rmse_manual.keys()), y=list(test_rmse_manual.values()), palette=\"viridis\")\n",
    "plt.title('Model Test RMSE Comparison')\n",
    "plt.ylabel('RMSE (Lower is Better)')\n",
    "plt.xlabel('Model')\n",
    "plt.show()"
   ]
  },
  {
   "cell_type": "code",
   "execution_count": 36,
   "id": "c493d9b4",
   "metadata": {},
   "outputs": [
    {
     "name": "stdout",
     "output_type": "stream",
     "text": [
      "KNN model saved to best_model_knn.pkl\n"
     ]
    }
   ],
   "source": [
    "import pickle\n",
    "\n",
    "# Directly refer to the KNN model from your trained models dictionary\n",
    "best_model = trained_models_manual['KNN']\n",
    "filename = 'best_model_knn.pkl'\n",
    "\n",
    "with open(filename, 'wb') as file:\n",
    "    pickle.dump(best_model, file)\n",
    "\n",
    "print(f\"KNN model saved to {filename}\")\n"
   ]
  },
  {
   "cell_type": "code",
   "execution_count": null,
   "id": "f22c21c3",
   "metadata": {},
   "outputs": [],
   "source": []
  }
 ],
 "metadata": {
  "kernelspec": {
   "display_name": "base",
   "language": "python",
   "name": "python3"
  },
  "language_info": {
   "codemirror_mode": {
    "name": "ipython",
    "version": 3
   },
   "file_extension": ".py",
   "mimetype": "text/x-python",
   "name": "python",
   "nbconvert_exporter": "python",
   "pygments_lexer": "ipython3",
   "version": "3.13.5"
  }
 },
 "nbformat": 4,
 "nbformat_minor": 5
}
